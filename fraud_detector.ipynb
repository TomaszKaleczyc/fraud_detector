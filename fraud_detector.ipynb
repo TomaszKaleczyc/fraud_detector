{
  "cells": [
    {
      "metadata": {
        "_uuid": "5933ace85b2e83c06f47cc7d1ce799a25cc1c607"
      },
      "cell_type": "markdown",
      "source": "# Credit Card Fraud Detection with Autoencoders!"
    },
    {
      "metadata": {
        "_uuid": "993c4c006feddcde88acedb90372323b4130a846"
      },
      "cell_type": "markdown",
      "source": "## Problem Statement"
    },
    {
      "metadata": {
        "trusted": true,
        "_uuid": "67d166e10ad688bb0ec1903962f97c1f6d3059b8"
      },
      "cell_type": "code",
      "source": "",
      "execution_count": null,
      "outputs": []
    },
    {
      "metadata": {
        "_uuid": "d8192be8d44b78b861f62871701aac442d9ae23d"
      },
      "cell_type": "markdown",
      "source": "## Imports"
    },
    {
      "metadata": {
        "_uuid": "8f2839f25d086af736a60e9eeb907d3b93b6e0e5",
        "_cell_guid": "b1076dfc-b9ad-4769-8c92-a6c4dae69d19",
        "trusted": true
      },
      "cell_type": "code",
      "source": "import pdb\nimport sys\nimport os\nimport time\nimport pandas as pd\nfrom sklearn.metrics import f1_score\nimport pathlib\nimport copy\nimport pickle\nimport warnings\nfrom datetime import datetime\nfrom sklearn.manifold import TSNE\n\nimport matplotlib.pyplot as plt\nfrom matplotlib import cm\nimport seaborn as sns\nfrom matplotlib import style\nstyle.use('seaborn')\n\nimport cv2\n\nimport numpy as np\nimport pandas as pd\n\nimport torch\nfrom torch.autograd import Variable\nimport torch.nn.functional as F\nfrom torch.utils.data import Dataset, DataLoader\nfrom torch.utils.data.sampler import Sampler\nimport torch.nn as nn",
      "execution_count": 56,
      "outputs": []
    },
    {
      "metadata": {
        "trusted": true,
        "_uuid": "f3394298eb303e98a64e03c45d7963560c6b6814"
      },
      "cell_type": "code",
      "source": "%matplotlib inline\npd.options.display.float_format = '{:,.2f}'.format\nseed = 5\nnp.random.seed(seed)\ntorch.manual_seed(seed)",
      "execution_count": 27,
      "outputs": [
        {
          "output_type": "execute_result",
          "execution_count": 27,
          "data": {
            "text/plain": "<torch._C.Generator at 0x7f6a3fb95b90>"
          },
          "metadata": {}
        }
      ]
    },
    {
      "metadata": {
        "_uuid": "795ec97fe727b58e9fabf57b8db486c8e5cfe418"
      },
      "cell_type": "markdown",
      "source": "# Getting the Dataset"
    },
    {
      "metadata": {
        "_cell_guid": "79c7e3d0-c299-4dcb-8224-4455121ee9b0",
        "_uuid": "d629ff2d2480ee46fbb7e2d37f6b5fab8052498a",
        "trusted": true
      },
      "cell_type": "code",
      "source": "PATH = pathlib.Path('../input/'); list(PATH.iterdir())",
      "execution_count": 23,
      "outputs": [
        {
          "output_type": "execute_result",
          "execution_count": 23,
          "data": {
            "text/plain": "[PosixPath('../input/creditcard.csv')]"
          },
          "metadata": {}
        }
      ]
    },
    {
      "metadata": {
        "trusted": true,
        "_uuid": "3726a18bbe75fe0be9c491be4596bfd377fd0081"
      },
      "cell_type": "code",
      "source": "list((PATH/'input').iterdir())",
      "execution_count": 22,
      "outputs": [
        {
          "output_type": "execute_result",
          "execution_count": 22,
          "data": {
            "text/plain": "[PosixPath('../input/creditcard.csv')]"
          },
          "metadata": {}
        }
      ]
    },
    {
      "metadata": {
        "trusted": true,
        "scrolled": true,
        "_uuid": "e902155625f3e89e061719145524342e52526e93"
      },
      "cell_type": "code",
      "source": "df = pd.read_csv(list(PATH.iterdir())[0]); df.head()",
      "execution_count": 25,
      "outputs": [
        {
          "output_type": "execute_result",
          "execution_count": 25,
          "data": {
            "text/plain": "   Time        V1        V2        V3  ...         V27       V28  Amount  Class\n0   0.0 -1.359807 -0.072781  2.536347  ...    0.133558 -0.021053  149.62      0\n1   0.0  1.191857  0.266151  0.166480  ...   -0.008983  0.014724    2.69      0\n2   1.0 -1.358354 -1.340163  1.773209  ...   -0.055353 -0.059752  378.66      0\n3   1.0 -0.966272 -0.185226  1.792993  ...    0.062723  0.061458  123.50      0\n4   2.0 -1.158233  0.877737  1.548718  ...    0.219422  0.215153   69.99      0\n\n[5 rows x 31 columns]",
            "text/html": "<div>\n<style scoped>\n    .dataframe tbody tr th:only-of-type {\n        vertical-align: middle;\n    }\n\n    .dataframe tbody tr th {\n        vertical-align: top;\n    }\n\n    .dataframe thead th {\n        text-align: right;\n    }\n</style>\n<table border=\"1\" class=\"dataframe\">\n  <thead>\n    <tr style=\"text-align: right;\">\n      <th></th>\n      <th>Time</th>\n      <th>V1</th>\n      <th>V2</th>\n      <th>V3</th>\n      <th>V4</th>\n      <th>V5</th>\n      <th>V6</th>\n      <th>V7</th>\n      <th>V8</th>\n      <th>V9</th>\n      <th>V10</th>\n      <th>V11</th>\n      <th>V12</th>\n      <th>V13</th>\n      <th>V14</th>\n      <th>V15</th>\n      <th>V16</th>\n      <th>V17</th>\n      <th>V18</th>\n      <th>V19</th>\n      <th>V20</th>\n      <th>V21</th>\n      <th>V22</th>\n      <th>V23</th>\n      <th>V24</th>\n      <th>V25</th>\n      <th>V26</th>\n      <th>V27</th>\n      <th>V28</th>\n      <th>Amount</th>\n      <th>Class</th>\n    </tr>\n  </thead>\n  <tbody>\n    <tr>\n      <th>0</th>\n      <td>0.0</td>\n      <td>-1.359807</td>\n      <td>-0.072781</td>\n      <td>2.536347</td>\n      <td>1.378155</td>\n      <td>-0.338321</td>\n      <td>0.462388</td>\n      <td>0.239599</td>\n      <td>0.098698</td>\n      <td>0.363787</td>\n      <td>0.090794</td>\n      <td>-0.551600</td>\n      <td>-0.617801</td>\n      <td>-0.991390</td>\n      <td>-0.311169</td>\n      <td>1.468177</td>\n      <td>-0.470401</td>\n      <td>0.207971</td>\n      <td>0.025791</td>\n      <td>0.403993</td>\n      <td>0.251412</td>\n      <td>-0.018307</td>\n      <td>0.277838</td>\n      <td>-0.110474</td>\n      <td>0.066928</td>\n      <td>0.128539</td>\n      <td>-0.189115</td>\n      <td>0.133558</td>\n      <td>-0.021053</td>\n      <td>149.62</td>\n      <td>0</td>\n    </tr>\n    <tr>\n      <th>1</th>\n      <td>0.0</td>\n      <td>1.191857</td>\n      <td>0.266151</td>\n      <td>0.166480</td>\n      <td>0.448154</td>\n      <td>0.060018</td>\n      <td>-0.082361</td>\n      <td>-0.078803</td>\n      <td>0.085102</td>\n      <td>-0.255425</td>\n      <td>-0.166974</td>\n      <td>1.612727</td>\n      <td>1.065235</td>\n      <td>0.489095</td>\n      <td>-0.143772</td>\n      <td>0.635558</td>\n      <td>0.463917</td>\n      <td>-0.114805</td>\n      <td>-0.183361</td>\n      <td>-0.145783</td>\n      <td>-0.069083</td>\n      <td>-0.225775</td>\n      <td>-0.638672</td>\n      <td>0.101288</td>\n      <td>-0.339846</td>\n      <td>0.167170</td>\n      <td>0.125895</td>\n      <td>-0.008983</td>\n      <td>0.014724</td>\n      <td>2.69</td>\n      <td>0</td>\n    </tr>\n    <tr>\n      <th>2</th>\n      <td>1.0</td>\n      <td>-1.358354</td>\n      <td>-1.340163</td>\n      <td>1.773209</td>\n      <td>0.379780</td>\n      <td>-0.503198</td>\n      <td>1.800499</td>\n      <td>0.791461</td>\n      <td>0.247676</td>\n      <td>-1.514654</td>\n      <td>0.207643</td>\n      <td>0.624501</td>\n      <td>0.066084</td>\n      <td>0.717293</td>\n      <td>-0.165946</td>\n      <td>2.345865</td>\n      <td>-2.890083</td>\n      <td>1.109969</td>\n      <td>-0.121359</td>\n      <td>-2.261857</td>\n      <td>0.524980</td>\n      <td>0.247998</td>\n      <td>0.771679</td>\n      <td>0.909412</td>\n      <td>-0.689281</td>\n      <td>-0.327642</td>\n      <td>-0.139097</td>\n      <td>-0.055353</td>\n      <td>-0.059752</td>\n      <td>378.66</td>\n      <td>0</td>\n    </tr>\n    <tr>\n      <th>3</th>\n      <td>1.0</td>\n      <td>-0.966272</td>\n      <td>-0.185226</td>\n      <td>1.792993</td>\n      <td>-0.863291</td>\n      <td>-0.010309</td>\n      <td>1.247203</td>\n      <td>0.237609</td>\n      <td>0.377436</td>\n      <td>-1.387024</td>\n      <td>-0.054952</td>\n      <td>-0.226487</td>\n      <td>0.178228</td>\n      <td>0.507757</td>\n      <td>-0.287924</td>\n      <td>-0.631418</td>\n      <td>-1.059647</td>\n      <td>-0.684093</td>\n      <td>1.965775</td>\n      <td>-1.232622</td>\n      <td>-0.208038</td>\n      <td>-0.108300</td>\n      <td>0.005274</td>\n      <td>-0.190321</td>\n      <td>-1.175575</td>\n      <td>0.647376</td>\n      <td>-0.221929</td>\n      <td>0.062723</td>\n      <td>0.061458</td>\n      <td>123.50</td>\n      <td>0</td>\n    </tr>\n    <tr>\n      <th>4</th>\n      <td>2.0</td>\n      <td>-1.158233</td>\n      <td>0.877737</td>\n      <td>1.548718</td>\n      <td>0.403034</td>\n      <td>-0.407193</td>\n      <td>0.095921</td>\n      <td>0.592941</td>\n      <td>-0.270533</td>\n      <td>0.817739</td>\n      <td>0.753074</td>\n      <td>-0.822843</td>\n      <td>0.538196</td>\n      <td>1.345852</td>\n      <td>-1.119670</td>\n      <td>0.175121</td>\n      <td>-0.451449</td>\n      <td>-0.237033</td>\n      <td>-0.038195</td>\n      <td>0.803487</td>\n      <td>0.408542</td>\n      <td>-0.009431</td>\n      <td>0.798278</td>\n      <td>-0.137458</td>\n      <td>0.141267</td>\n      <td>-0.206010</td>\n      <td>0.502292</td>\n      <td>0.219422</td>\n      <td>0.215153</td>\n      <td>69.99</td>\n      <td>0</td>\n    </tr>\n  </tbody>\n</table>\n</div>"
          },
          "metadata": {}
        }
      ]
    },
    {
      "metadata": {
        "trusted": true,
        "_uuid": "230a46dae3a64ecf0d3fa0d8fd11e0c6a6854980"
      },
      "cell_type": "code",
      "source": "df.shape",
      "execution_count": 45,
      "outputs": [
        {
          "output_type": "execute_result",
          "execution_count": 45,
          "data": {
            "text/plain": "(284807, 32)"
          },
          "metadata": {}
        }
      ]
    },
    {
      "metadata": {
        "trusted": true,
        "_uuid": "68755bc5e62c05f3def1002e0a2cec0b2fdf6e98"
      },
      "cell_type": "code",
      "source": "df.describe()",
      "execution_count": 28,
      "outputs": [
        {
          "output_type": "execute_result",
          "execution_count": 28,
          "data": {
            "text/plain": "            Time         V1    ...         Amount      Class\ncount 284,807.00 284,807.00    ...     284,807.00 284,807.00\nmean   94,813.86       0.00    ...          88.35       0.00\nstd    47,488.15       1.96    ...         250.12       0.04\nmin         0.00     -56.41    ...           0.00       0.00\n25%    54,201.50      -0.92    ...           5.60       0.00\n50%    84,692.00       0.02    ...          22.00       0.00\n75%   139,320.50       1.32    ...          77.16       0.00\nmax   172,792.00       2.45    ...      25,691.16       1.00\n\n[8 rows x 31 columns]",
            "text/html": "<div>\n<style scoped>\n    .dataframe tbody tr th:only-of-type {\n        vertical-align: middle;\n    }\n\n    .dataframe tbody tr th {\n        vertical-align: top;\n    }\n\n    .dataframe thead th {\n        text-align: right;\n    }\n</style>\n<table border=\"1\" class=\"dataframe\">\n  <thead>\n    <tr style=\"text-align: right;\">\n      <th></th>\n      <th>Time</th>\n      <th>V1</th>\n      <th>V2</th>\n      <th>V3</th>\n      <th>V4</th>\n      <th>V5</th>\n      <th>V6</th>\n      <th>V7</th>\n      <th>V8</th>\n      <th>V9</th>\n      <th>V10</th>\n      <th>V11</th>\n      <th>V12</th>\n      <th>V13</th>\n      <th>V14</th>\n      <th>V15</th>\n      <th>V16</th>\n      <th>V17</th>\n      <th>V18</th>\n      <th>V19</th>\n      <th>V20</th>\n      <th>V21</th>\n      <th>V22</th>\n      <th>V23</th>\n      <th>V24</th>\n      <th>V25</th>\n      <th>V26</th>\n      <th>V27</th>\n      <th>V28</th>\n      <th>Amount</th>\n      <th>Class</th>\n    </tr>\n  </thead>\n  <tbody>\n    <tr>\n      <th>count</th>\n      <td>284,807.00</td>\n      <td>284,807.00</td>\n      <td>284,807.00</td>\n      <td>284,807.00</td>\n      <td>284,807.00</td>\n      <td>284,807.00</td>\n      <td>284,807.00</td>\n      <td>284,807.00</td>\n      <td>284,807.00</td>\n      <td>284,807.00</td>\n      <td>284,807.00</td>\n      <td>284,807.00</td>\n      <td>284,807.00</td>\n      <td>284,807.00</td>\n      <td>284,807.00</td>\n      <td>284,807.00</td>\n      <td>284,807.00</td>\n      <td>284,807.00</td>\n      <td>284,807.00</td>\n      <td>284,807.00</td>\n      <td>284,807.00</td>\n      <td>284,807.00</td>\n      <td>284,807.00</td>\n      <td>284,807.00</td>\n      <td>284,807.00</td>\n      <td>284,807.00</td>\n      <td>284,807.00</td>\n      <td>284,807.00</td>\n      <td>284,807.00</td>\n      <td>284,807.00</td>\n      <td>284,807.00</td>\n    </tr>\n    <tr>\n      <th>mean</th>\n      <td>94,813.86</td>\n      <td>0.00</td>\n      <td>0.00</td>\n      <td>-0.00</td>\n      <td>0.00</td>\n      <td>-0.00</td>\n      <td>0.00</td>\n      <td>-0.00</td>\n      <td>-0.00</td>\n      <td>-0.00</td>\n      <td>0.00</td>\n      <td>0.00</td>\n      <td>-0.00</td>\n      <td>0.00</td>\n      <td>0.00</td>\n      <td>0.00</td>\n      <td>0.00</td>\n      <td>-0.00</td>\n      <td>0.00</td>\n      <td>0.00</td>\n      <td>0.00</td>\n      <td>0.00</td>\n      <td>0.00</td>\n      <td>0.00</td>\n      <td>0.00</td>\n      <td>0.00</td>\n      <td>0.00</td>\n      <td>-0.00</td>\n      <td>-0.00</td>\n      <td>88.35</td>\n      <td>0.00</td>\n    </tr>\n    <tr>\n      <th>std</th>\n      <td>47,488.15</td>\n      <td>1.96</td>\n      <td>1.65</td>\n      <td>1.52</td>\n      <td>1.42</td>\n      <td>1.38</td>\n      <td>1.33</td>\n      <td>1.24</td>\n      <td>1.19</td>\n      <td>1.10</td>\n      <td>1.09</td>\n      <td>1.02</td>\n      <td>1.00</td>\n      <td>1.00</td>\n      <td>0.96</td>\n      <td>0.92</td>\n      <td>0.88</td>\n      <td>0.85</td>\n      <td>0.84</td>\n      <td>0.81</td>\n      <td>0.77</td>\n      <td>0.73</td>\n      <td>0.73</td>\n      <td>0.62</td>\n      <td>0.61</td>\n      <td>0.52</td>\n      <td>0.48</td>\n      <td>0.40</td>\n      <td>0.33</td>\n      <td>250.12</td>\n      <td>0.04</td>\n    </tr>\n    <tr>\n      <th>min</th>\n      <td>0.00</td>\n      <td>-56.41</td>\n      <td>-72.72</td>\n      <td>-48.33</td>\n      <td>-5.68</td>\n      <td>-113.74</td>\n      <td>-26.16</td>\n      <td>-43.56</td>\n      <td>-73.22</td>\n      <td>-13.43</td>\n      <td>-24.59</td>\n      <td>-4.80</td>\n      <td>-18.68</td>\n      <td>-5.79</td>\n      <td>-19.21</td>\n      <td>-4.50</td>\n      <td>-14.13</td>\n      <td>-25.16</td>\n      <td>-9.50</td>\n      <td>-7.21</td>\n      <td>-54.50</td>\n      <td>-34.83</td>\n      <td>-10.93</td>\n      <td>-44.81</td>\n      <td>-2.84</td>\n      <td>-10.30</td>\n      <td>-2.60</td>\n      <td>-22.57</td>\n      <td>-15.43</td>\n      <td>0.00</td>\n      <td>0.00</td>\n    </tr>\n    <tr>\n      <th>25%</th>\n      <td>54,201.50</td>\n      <td>-0.92</td>\n      <td>-0.60</td>\n      <td>-0.89</td>\n      <td>-0.85</td>\n      <td>-0.69</td>\n      <td>-0.77</td>\n      <td>-0.55</td>\n      <td>-0.21</td>\n      <td>-0.64</td>\n      <td>-0.54</td>\n      <td>-0.76</td>\n      <td>-0.41</td>\n      <td>-0.65</td>\n      <td>-0.43</td>\n      <td>-0.58</td>\n      <td>-0.47</td>\n      <td>-0.48</td>\n      <td>-0.50</td>\n      <td>-0.46</td>\n      <td>-0.21</td>\n      <td>-0.23</td>\n      <td>-0.54</td>\n      <td>-0.16</td>\n      <td>-0.35</td>\n      <td>-0.32</td>\n      <td>-0.33</td>\n      <td>-0.07</td>\n      <td>-0.05</td>\n      <td>5.60</td>\n      <td>0.00</td>\n    </tr>\n    <tr>\n      <th>50%</th>\n      <td>84,692.00</td>\n      <td>0.02</td>\n      <td>0.07</td>\n      <td>0.18</td>\n      <td>-0.02</td>\n      <td>-0.05</td>\n      <td>-0.27</td>\n      <td>0.04</td>\n      <td>0.02</td>\n      <td>-0.05</td>\n      <td>-0.09</td>\n      <td>-0.03</td>\n      <td>0.14</td>\n      <td>-0.01</td>\n      <td>0.05</td>\n      <td>0.05</td>\n      <td>0.07</td>\n      <td>-0.07</td>\n      <td>-0.00</td>\n      <td>0.00</td>\n      <td>-0.06</td>\n      <td>-0.03</td>\n      <td>0.01</td>\n      <td>-0.01</td>\n      <td>0.04</td>\n      <td>0.02</td>\n      <td>-0.05</td>\n      <td>0.00</td>\n      <td>0.01</td>\n      <td>22.00</td>\n      <td>0.00</td>\n    </tr>\n    <tr>\n      <th>75%</th>\n      <td>139,320.50</td>\n      <td>1.32</td>\n      <td>0.80</td>\n      <td>1.03</td>\n      <td>0.74</td>\n      <td>0.61</td>\n      <td>0.40</td>\n      <td>0.57</td>\n      <td>0.33</td>\n      <td>0.60</td>\n      <td>0.45</td>\n      <td>0.74</td>\n      <td>0.62</td>\n      <td>0.66</td>\n      <td>0.49</td>\n      <td>0.65</td>\n      <td>0.52</td>\n      <td>0.40</td>\n      <td>0.50</td>\n      <td>0.46</td>\n      <td>0.13</td>\n      <td>0.19</td>\n      <td>0.53</td>\n      <td>0.15</td>\n      <td>0.44</td>\n      <td>0.35</td>\n      <td>0.24</td>\n      <td>0.09</td>\n      <td>0.08</td>\n      <td>77.16</td>\n      <td>0.00</td>\n    </tr>\n    <tr>\n      <th>max</th>\n      <td>172,792.00</td>\n      <td>2.45</td>\n      <td>22.06</td>\n      <td>9.38</td>\n      <td>16.88</td>\n      <td>34.80</td>\n      <td>73.30</td>\n      <td>120.59</td>\n      <td>20.01</td>\n      <td>15.59</td>\n      <td>23.75</td>\n      <td>12.02</td>\n      <td>7.85</td>\n      <td>7.13</td>\n      <td>10.53</td>\n      <td>8.88</td>\n      <td>17.32</td>\n      <td>9.25</td>\n      <td>5.04</td>\n      <td>5.59</td>\n      <td>39.42</td>\n      <td>27.20</td>\n      <td>10.50</td>\n      <td>22.53</td>\n      <td>4.58</td>\n      <td>7.52</td>\n      <td>3.52</td>\n      <td>31.61</td>\n      <td>33.85</td>\n      <td>25,691.16</td>\n      <td>1.00</td>\n    </tr>\n  </tbody>\n</table>\n</div>"
          },
          "metadata": {}
        }
      ]
    },
    {
      "metadata": {
        "trusted": true,
        "_uuid": "64c80ccb6628821740201d443cf2ed3a579752a0"
      },
      "cell_type": "code",
      "source": "df.columns",
      "execution_count": 46,
      "outputs": [
        {
          "output_type": "execute_result",
          "execution_count": 46,
          "data": {
            "text/plain": "Index(['Time', 'V1', 'V2', 'V3', 'V4', 'V5', 'V6', 'V7', 'V8', 'V9', 'V10',\n       'V11', 'V12', 'V13', 'V14', 'V15', 'V16', 'V17', 'V18', 'V19', 'V20',\n       'V21', 'V22', 'V23', 'V24', 'V25', 'V26', 'V27', 'V28', 'Amount',\n       'Class', 'Day_hrs'],\n      dtype='object')"
          },
          "metadata": {}
        }
      ]
    },
    {
      "metadata": {
        "trusted": true,
        "_uuid": "bc92c465801a8782e71383d95d4719b211394a27"
      },
      "cell_type": "code",
      "source": "class_df = df['Class'].value_counts().to_frame().reset_index()\nclass_df['% of total'] = class_df['Class'] / len(df) * 100\nclass_df.rename(columns={'index': 'Class', 'Class': 'Count'})",
      "execution_count": 55,
      "outputs": [
        {
          "output_type": "execute_result",
          "execution_count": 55,
          "data": {
            "text/plain": "   Class   Count  % of total\n0      0  284315       99.83\n1      1     492        0.17",
            "text/html": "<div>\n<style scoped>\n    .dataframe tbody tr th:only-of-type {\n        vertical-align: middle;\n    }\n\n    .dataframe tbody tr th {\n        vertical-align: top;\n    }\n\n    .dataframe thead th {\n        text-align: right;\n    }\n</style>\n<table border=\"1\" class=\"dataframe\">\n  <thead>\n    <tr style=\"text-align: right;\">\n      <th></th>\n      <th>Class</th>\n      <th>Count</th>\n      <th>% of total</th>\n    </tr>\n  </thead>\n  <tbody>\n    <tr>\n      <th>0</th>\n      <td>0</td>\n      <td>284315</td>\n      <td>99.83</td>\n    </tr>\n    <tr>\n      <th>1</th>\n      <td>1</td>\n      <td>492</td>\n      <td>0.17</td>\n    </tr>\n  </tbody>\n</table>\n</div>"
          },
          "metadata": {}
        }
      ]
    },
    {
      "metadata": {
        "trusted": true,
        "_uuid": "494a44852c1e9eb7f325f598777a86957382004c"
      },
      "cell_type": "code",
      "source": "hours = df.describe()['Time']['max'] / (60*60)\nprint(f\"This dataset spans {hours:.0f} hours in total\")",
      "execution_count": 40,
      "outputs": [
        {
          "output_type": "stream",
          "text": "This dataset spans 48 hours in total\n",
          "name": "stdout"
        }
      ]
    },
    {
      "metadata": {
        "trusted": true,
        "_uuid": "abdcc43051b3ce4375b2000a040f55783e7f9eb3"
      },
      "cell_type": "code",
      "source": "df['Day_hrs'] = df['Time'] / (60*60) % 24",
      "execution_count": 43,
      "outputs": [
        {
          "output_type": "execute_result",
          "execution_count": 43,
          "data": {
            "text/plain": "0   0.00\n1   0.00\n2   0.00\n3   0.00\n4   0.00\nName: Day_hrs, dtype: float64"
          },
          "metadata": {}
        }
      ]
    },
    {
      "metadata": {
        "_uuid": "c8cd51b6b1384fe822850d9d690de2f173939cf1"
      },
      "cell_type": "markdown",
      "source": "## Exploratory Data Analysis"
    },
    {
      "metadata": {
        "_uuid": "0d7b5482b1d1d1b053fc70d9bad93c46f5afae0b"
      },
      "cell_type": "markdown",
      "source": "Visualise data with t-SNE and/or PCA"
    },
    {
      "metadata": {
        "trusted": true,
        "_uuid": "18d55728f6a821246851902225e092c7bd149781"
      },
      "cell_type": "code",
      "source": "n = 1600\nnormal_smpl = df[df['Class'] == 0].sample(n=n)\nfraud_smpl = df[df['Class'] == 1]\n\nsmpl = pd.concat((normal_smpl, fraud_smpl), axis=0).sample(frac=1).reset_index(drop=True)\ninp = smpl.drop(columns=['Class']).values\ntarg = smpl['Class'].values",
      "execution_count": 69,
      "outputs": []
    },
    {
      "metadata": {
        "trusted": true,
        "_uuid": "157306105f1da4398cadc02e99ff8516e3874f43"
      },
      "cell_type": "code",
      "source": "def tsne_plot(inp, targ):\n    tsne = TSNE(n_components=2, random_state=seed)\n    train = tsne.fit_transform(inp)\n\n    plt.figure(figsize=(10,8))\n    plt.title(\"t-SNE visualisation by transaction type:\")\n    plt.scatter(inp[np.where(targ == 0), 0], inp[np.where(targ == 0), 1], marker='o', color='g', alpha=0.6, label=\"Normal\")\n    plt.scatter(inp[np.where(targ == 1), 0], inp[np.where(targ == 1), 1], marker='o', color='r', alpha=0.6, label=\"Fraud\")\n    plt.legend(loc='best')\n    plt.show()\n\ntsne_plot(inp, targ)",
      "execution_count": null,
      "outputs": []
    },
    {
      "metadata": {
        "_uuid": "67f919eaf1f9ecf264c13d9265ab1eec8093170f"
      },
      "cell_type": "markdown",
      "source": "Traditional stats"
    },
    {
      "metadata": {
        "trusted": true,
        "_uuid": "ffc9cb5d1826767d65f5029a0115a5687a853b8c"
      },
      "cell_type": "code",
      "source": "",
      "execution_count": null,
      "outputs": []
    },
    {
      "metadata": {
        "_uuid": "9bd59e91912f7f70a32367a803bf1a3f35af0715"
      },
      "cell_type": "markdown",
      "source": "Autoencoder"
    },
    {
      "metadata": {
        "trusted": true,
        "_uuid": "543ad3697f357b471aeb7e1e9ab4ade3151d9bdc"
      },
      "cell_type": "code",
      "source": "",
      "execution_count": null,
      "outputs": []
    },
    {
      "metadata": {
        "_uuid": "9867f9936385b50bf989eb177383f89c4152f271"
      },
      "cell_type": "markdown",
      "source": "Classifier based on Autoencoder Error"
    },
    {
      "metadata": {
        "trusted": true,
        "_uuid": "5b40d0bfda1ff0254c48ab54b51aac43ad912bbe"
      },
      "cell_type": "code",
      "source": "",
      "execution_count": null,
      "outputs": []
    },
    {
      "metadata": {
        "_uuid": "6c9b36da16b99eec4648d15c33edfdfd295e743a"
      },
      "cell_type": "markdown",
      "source": "Final stats"
    },
    {
      "metadata": {
        "trusted": true,
        "_uuid": "6a0b3b2e124b806fd251f7495790d7ffd3414115"
      },
      "cell_type": "code",
      "source": "",
      "execution_count": null,
      "outputs": []
    },
    {
      "metadata": {
        "trusted": true,
        "_uuid": "50285fe72c55372c38173ee7e1b75732dd9b384e"
      },
      "cell_type": "code",
      "source": "",
      "execution_count": null,
      "outputs": []
    },
    {
      "metadata": {
        "trusted": true,
        "_uuid": "7ecb968c8d29ce0bd15b959ed7726eb6bb830be9"
      },
      "cell_type": "code",
      "source": "",
      "execution_count": null,
      "outputs": []
    },
    {
      "metadata": {
        "trusted": true,
        "_uuid": "6e55c1488b3cde2991fb5043025111e41282aee7"
      },
      "cell_type": "code",
      "source": "",
      "execution_count": null,
      "outputs": []
    },
    {
      "metadata": {
        "trusted": true,
        "_uuid": "7781a5f471f7b36d4776296b32ed27ae78b080b8"
      },
      "cell_type": "code",
      "source": "",
      "execution_count": null,
      "outputs": []
    },
    {
      "metadata": {
        "trusted": true,
        "_uuid": "74108af55b064609ae31bcf4c12707d5ee83f416"
      },
      "cell_type": "code",
      "source": "",
      "execution_count": null,
      "outputs": []
    },
    {
      "metadata": {
        "trusted": true,
        "_uuid": "9228284cc10771fc376dfccc3e23739cf23a4e04"
      },
      "cell_type": "code",
      "source": "",
      "execution_count": null,
      "outputs": []
    },
    {
      "metadata": {
        "trusted": true,
        "_uuid": "4ab660c4436032815e48d6646d23406eb7d400c6"
      },
      "cell_type": "code",
      "source": "",
      "execution_count": null,
      "outputs": []
    },
    {
      "metadata": {
        "trusted": true,
        "_uuid": "27da4e8f08dd2efab9df66a603d54b71e38f714d"
      },
      "cell_type": "code",
      "source": "",
      "execution_count": null,
      "outputs": []
    },
    {
      "metadata": {
        "trusted": true,
        "_uuid": "3ef0da3b64b3f14ce1a91f83aa71400b9bd2a837"
      },
      "cell_type": "code",
      "source": "",
      "execution_count": null,
      "outputs": []
    },
    {
      "metadata": {
        "trusted": true,
        "_uuid": "1e88a4e993e2946d91847943a18931a2199733ce"
      },
      "cell_type": "code",
      "source": "",
      "execution_count": null,
      "outputs": []
    }
  ],
  "metadata": {
    "kernelspec": {
      "display_name": "Python 3",
      "language": "python",
      "name": "python3"
    },
    "language_info": {
      "name": "python",
      "version": "3.6.6",
      "mimetype": "text/x-python",
      "codemirror_mode": {
        "name": "ipython",
        "version": 3
      },
      "pygments_lexer": "ipython3",
      "nbconvert_exporter": "python",
      "file_extension": ".py"
    }
  },
  "nbformat": 4,
  "nbformat_minor": 1
}